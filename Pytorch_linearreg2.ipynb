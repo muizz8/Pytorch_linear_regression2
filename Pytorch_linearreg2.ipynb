{
 "cells": [
  {
   "cell_type": "code",
   "execution_count": null,
   "metadata": {},
   "outputs": [],
   "source": [
    "import numpy as np\n",
    "import matplotlib.pyplot as plt\n",
    "from mpl_toolkits import mplot3d"
   ]
  },
  {
   "cell_type": "markdown",
   "metadata": {},
   "source": [
    "### plot_error_surface is just to visualize the dataspace during training and has nothing to do with pytorch"
   ]
  },
  {
   "cell_type": "code",
   "execution_count": null,
   "metadata": {},
   "outputs": [],
   "source": [
    "import numpy as np\n",
    "import matplotlib.pyplot as plt\n",
    "\n",
    "class PlotErrorSurface(object):\n",
    "\n",
    "    # Constructor\n",
    "    def __init__(self, w_range, b_range, x, y, n_samples=30, go=True):\n",
    "        W = np.linspace(-w_range, w_range, n_samples)\n",
    "        B = np.linspace(-b_range, b_range, n_samples)\n",
    "        w, b = np.meshgrid(W, B)\n",
    "        z = np.zeros((n_samples, n_samples))\n",
    "\n",
    "        self.y = y.numpy()\n",
    "        self.x = x.numpy()\n",
    "\n",
    "        for i in range(n_samples):\n",
    "            for j in range(n_samples):\n",
    "                z[i, j] = np.mean((self.y - w[i, j] * self.x - b[i, j]) ** 2)\n",
    "\n",
    "        self.z = z\n",
    "        self.w = w\n",
    "        self.b = b\n",
    "        self.W = []\n",
    "        self.B = []\n",
    "        self.loss = []\n",
    "        self.n = 0\n",
    "\n",
    "        if go:\n",
    "            plt.figure()\n",
    "            plt.figure(figsize=(7.5, 5))\n",
    "            ax = plt.axes(projection='3d')\n",
    "            ax.plot_surface(self.w, self.b, self.z, rstride=1, cstride=1, cmap='viridis', edgecolor='none')\n",
    "            plt.title('Cost/Total Loss Surface')\n",
    "            plt.xlabel('w')\n",
    "            plt.ylabel('b')\n",
    "            plt.show()\n",
    "\n",
    "            plt.figure()\n",
    "            plt.title('Cost/Total Loss Contour')\n",
    "            plt.xlabel('w')\n",
    "            plt.ylabel('b')\n",
    "            plt.contour(self.w, self.b, self.z)\n",
    "            plt.show()\n",
    "\n",
    "    # Setter\n",
    "    def set_para_loss(self, W, B, loss):\n",
    "        self.n += 1\n",
    "        self.W.append(W)\n",
    "        self.B.append(B)\n",
    "        self.loss.append(loss)\n",
    "\n",
    "    # Final plot\n",
    "    def final_plot(self):\n",
    "        ax = plt.axes(projection='3d')\n",
    "        ax.plot_wireframe(self.w, self.b, self.z)\n",
    "        ax.scatter(self.W, self.B, self.loss, c='r', marker='o', s=100)\n",
    "        plt.figure()\n",
    "        plt.contour(self.w, self.b, self.z)\n",
    "        plt.scatter(self.W, self.B, c='r', marker='o')\n",
    "        plt.xlabel('w')\n",
    "        plt.ylabel('b')\n",
    "        plt.show()\n",
    "\n",
    "    # Plot parameter space\n",
    "    def plot_ps(self):\n",
    "        plt.subplot(121)\n",
    "        plt.plot(self.x, self.y, 'ro', label=\"training points\")\n",
    "        plt.plot(self.x, self.W[-1] * self.x + self.B[-1], label=\"estimated line\")\n",
    "        plt.xlabel(\"x\")\n",
    "        plt.ylabel(\"y\")\n",
    "        plt.ylim((-10, 15))\n",
    "        plt.title(\"Data Space Iteration: \" + str(self.n))\n",
    "        plt.subplot(122)\n",
    "        plt.contour(self.w, self.b, self.z)\n",
    "        plt.scatter(self.W, self.B, c='r', marker='o')\n",
    "        plt.title(\"Loss Surface Contour Iteration: \" + str(self.n))\n",
    "        plt.xlabel(\"w\")\n",
    "        plt.ylabel(\"b\")\n",
    "        plt.show()\n",
    "\n",
    "# Example usage:\n",
    "# Assuming you have x and y as PyTorch tensors\n",
    "import torch\n",
    "\n",
    "# Create some example data\n",
    "x = torch.linspace(-3, 3, 50)\n",
    "y = 2 * x + 1 + torch.randn(x.size())\n",
    "\n",
    "# Instantiate the plot_error_surface class\n",
    "plot_surface = PlotErrorSurface(5, 5, x, y, n_samples=30, go=True)\n"
   ]
  },
  {
   "cell_type": "markdown",
   "metadata": {},
   "source": [
    "# Make some data"
   ]
  },
  {
   "cell_type": "code",
   "execution_count": null,
   "metadata": {},
   "outputs": [],
   "source": [
    "import torch"
   ]
  },
  {
   "cell_type": "code",
   "execution_count": null,
   "metadata": {},
   "outputs": [],
   "source": [
    "x = torch.arange(-3,3,0.1).view(-1,1)\n",
    "y = 2*x + 1"
   ]
  },
  {
   "cell_type": "code",
   "execution_count": null,
   "metadata": {},
   "outputs": [],
   "source": [
    "Y = y + 0.2*torch.randn(x.size())"
   ]
  },
  {
   "cell_type": "code",
   "execution_count": null,
   "metadata": {},
   "outputs": [],
   "source": [
    "plt.plot(x.numpy(),Y.numpy(),'rx',label = 'n')\n",
    "plt.plot(x.numpy(),y.numpy(),label = 'y')\n",
    "plt.xlabel('x')\n",
    "plt.ylabel('y')\n",
    "plt.show()"
   ]
  },
  {
   "cell_type": "markdown",
   "metadata": {},
   "source": [
    "# Create the model and cost function\n"
   ]
  },
  {
   "cell_type": "code",
   "execution_count": null,
   "metadata": {},
   "outputs": [],
   "source": [
    "def forward(x):\n",
    "    return w * x + b"
   ]
  },
  {
   "cell_type": "code",
   "execution_count": null,
   "metadata": {},
   "outputs": [],
   "source": [
    "def criterion(yhat,y):\n",
    "    return torch.mean((yhat-y)**2)"
   ]
  },
  {
   "cell_type": "code",
   "execution_count": null,
   "metadata": {},
   "outputs": [],
   "source": [
    "get_surface = PlotErrorSurface(15, 15, x, y, 30)"
   ]
  },
  {
   "cell_type": "markdown",
   "metadata": {},
   "source": [
    "# Train the model"
   ]
  },
  {
   "cell_type": "code",
   "execution_count": null,
   "metadata": {},
   "outputs": [],
   "source": [
    "w = torch.tensor(-10.0, requires_grad = True)\n",
    "b = torch.tensor(-15.0,requires_grad=True)"
   ]
  },
  {
   "cell_type": "code",
   "execution_count": null,
   "metadata": {},
   "outputs": [],
   "source": [
    "lr = 0.1\n",
    "loss = []"
   ]
  },
  {
   "cell_type": "code",
   "execution_count": null,
   "metadata": {},
   "outputs": [],
   "source": [
    "def train_model(iter):\n",
    "    for epoch in range(iter):\n",
    "        yhat = forward(x)\n",
    "        loss = criterion(yhat,y)\n",
    "        get_surface.set_para_loss(w.data.tolist(),b.data.tolist(),loss.tolist())\n",
    "        if epoch % 5 == 0:\n",
    "            get_surface.plot_ps()\n",
    "        loss.append(loss)\n",
    "        loss.backward()\n",
    "        w.data = w.data - lr * w.grad.data\n",
    "        b.data = b.data - lr * b.grad.data\n",
    "        w.grad.data.zero_()\n",
    "        b.grad.data.zero_()"
   ]
  },
  {
   "cell_type": "markdown",
   "metadata": {},
   "source": [
    "# Train the model with 15 iterations"
   ]
  },
  {
   "cell_type": "code",
   "execution_count": null,
   "metadata": {},
   "outputs": [],
   "source": [
    "train_model(15)"
   ]
  },
  {
   "cell_type": "code",
   "execution_count": null,
   "metadata": {},
   "outputs": [],
   "source": []
  }
 ],
 "metadata": {
  "kernelspec": {
   "display_name": "pythonnew",
   "language": "python",
   "name": "python3"
  },
  "language_info": {
   "codemirror_mode": {
    "name": "ipython",
    "version": 3
   },
   "file_extension": ".py",
   "mimetype": "text/x-python",
   "name": "python",
   "nbconvert_exporter": "python",
   "pygments_lexer": "ipython3",
   "version": "3.11.0"
  }
 },
 "nbformat": 4,
 "nbformat_minor": 2
}
